{
  "nbformat": 4,
  "nbformat_minor": 0,
  "metadata": {
    "colab": {
      "provenance": []
    },
    "kernelspec": {
      "name": "python3",
      "display_name": "Python 3"
    },
    "language_info": {
      "name": "python"
    }
  },
  "cells": [
    {
      "cell_type": "markdown",
      "source": [
        "## **Exercício para o Portifólio de vocês**\n",
        "\n",
        "1. Abra um colab novo \n",
        "2. Baixe o mesmo conjunto de textos que usamos nesta aula\n",
        "3. Selecione 10 classes do seu interesse \n",
        "4. Treine dois modelos, faça tuning e separe por abordagens \n",
        "\n",
        "**A entrega será somente dia 24/04. E vale 3 pontos** \n",
        "\n",
        "**Pensem que alguém vai ler este código depois de vocês fazerem**\n",
        "\n",
        "Critérios de avaliação: \n",
        "- Não vou me apegar a assertividade do modelo \n",
        "- O critério será a organização e conclusões ao longo do codigo."
      ],
      "metadata": {
        "id": "a9gBLn1rO7V5"
      }
    },
    {
      "cell_type": "code",
      "source": [
        "# Quando usamos \"as\", colocamos algum alias ,(atribuir um \"Apelido\"), a uma determinada biblioteca.\n",
        "import pandas as pd\n",
        "import numpy as np\n",
        "import matplotlib.pyplot as plt\n",
        "\n",
        "import nltk\n",
        "import warnings\n",
        "\n",
        "from sklearn.datasets import fetch_20newsgroups # dataset de texto para classificação contendo 20 classes\n",
        "from sklearn.feature_extraction.text import CountVectorizer, TfidfTransformer # carrega Vectorizer e TFIDF\n",
        "from sklearn.naive_bayes import MultinomialNB # algoritmo do Naive Bayes\n",
        "from sklearn.pipeline import Pipeline # Cria pipeline contendo todas as transformações e modelo\n",
        "from nltk.stem.snowball import SnowballStemmer # Função que retorna a palavra a sua raiz\n",
        "from sklearn.linear_model import SGDClassifier # Algoritmo Gradient Descendente Stocastico\n",
        "from sklearn.model_selection import GridSearchCV \n",
        "from sklearn.metrics import f1_score, accuracy_score, confusion_matrix, classification_report, ConfusionMatrixDisplay\n",
        "\n",
        "warnings.simplefilter('ignore')"
      ],
      "metadata": {
        "id": "hRHta_lwO85u"
      },
      "execution_count": null,
      "outputs": []
    },
    {
      "cell_type": "markdown",
      "source": [
        "#### **Carrega Dataset**"
      ],
      "metadata": {
        "id": "UB72LWaPRLjk"
      }
    },
    {
      "cell_type": "code",
      "source": [
        "newsgroups = fetch_20newsgroups(subset='train') # Carrega o dataset de treinamento do fetch 20 news groups"
      ],
      "metadata": {
        "id": "UUvkPTOlRMKV"
      },
      "execution_count": null,
      "outputs": []
    },
    {
      "cell_type": "code",
      "source": [
        "list(newsgroups.target_names) # retorna as classes disponíveis para treinamento"
      ],
      "metadata": {
        "colab": {
          "base_uri": "https://localhost:8080/"
        },
        "id": "zUJOHvyuRgvm",
        "outputId": "d8ce3223-6396-41e4-a961-73f3da61e8b5"
      },
      "execution_count": null,
      "outputs": [
        {
          "output_type": "execute_result",
          "data": {
            "text/plain": [
              "['alt.atheism',\n",
              " 'comp.graphics',\n",
              " 'comp.os.ms-windows.misc',\n",
              " 'comp.sys.ibm.pc.hardware',\n",
              " 'comp.sys.mac.hardware',\n",
              " 'comp.windows.x',\n",
              " 'misc.forsale',\n",
              " 'rec.autos',\n",
              " 'rec.motorcycles',\n",
              " 'rec.sport.baseball',\n",
              " 'rec.sport.hockey',\n",
              " 'sci.crypt',\n",
              " 'sci.electronics',\n",
              " 'sci.med',\n",
              " 'sci.space',\n",
              " 'soc.religion.christian',\n",
              " 'talk.politics.guns',\n",
              " 'talk.politics.mideast',\n",
              " 'talk.politics.misc',\n",
              " 'talk.religion.misc']"
            ]
          },
          "metadata": {},
          "execution_count": 4
        }
      ]
    },
    {
      "cell_type": "code",
      "source": [
        "categories = ['alt.atheism', 'soc.religion.christian','talk.religion.misc','rec.motorcycles','rec.sport.baseball',\n",
        "              'rec.sport.hockey','comp.graphics','comp.os.ms-windows.misc','comp.sys.ibm.pc.hardware','comp.sys.mac.hardware'] # Lista com as classes que vamos trabalhar\n",
        "df_train = fetch_20newsgroups(subset='train', categories=categories, shuffle=True, random_state=42)\n",
        "df_test = fetch_20newsgroups(subset='test', categories=categories, shuffle=True)"
      ],
      "metadata": {
        "id": "SWmfql8HRhLc"
      },
      "execution_count": null,
      "outputs": []
    },
    {
      "cell_type": "code",
      "source": [
        "df_train.target_names # Apresenta as classes"
      ],
      "metadata": {
        "id": "7VdknZtqc7Cs",
        "colab": {
          "base_uri": "https://localhost:8080/"
        },
        "outputId": "24bbfc8c-f50b-469a-8563-f209229f821b"
      },
      "execution_count": null,
      "outputs": [
        {
          "output_type": "execute_result",
          "data": {
            "text/plain": [
              "['alt.atheism',\n",
              " 'comp.graphics',\n",
              " 'comp.os.ms-windows.misc',\n",
              " 'comp.sys.ibm.pc.hardware',\n",
              " 'comp.sys.mac.hardware',\n",
              " 'rec.motorcycles',\n",
              " 'rec.sport.baseball',\n",
              " 'rec.sport.hockey',\n",
              " 'soc.religion.christian',\n",
              " 'talk.religion.misc']"
            ]
          },
          "metadata": {},
          "execution_count": 6
        }
      ]
    },
    {
      "cell_type": "markdown",
      "source": [
        "#### **Feature Enginnering** "
      ],
      "metadata": {
        "id": "nnOVCt1b8BJb"
      }
    },
    {
      "cell_type": "code",
      "source": [
        "# Converta uma coleção de documentos de texto em uma matriz de contagem de tokens\n",
        "# Essa implementação produz uma representação esparsa das contagens\n",
        "\n",
        "count_vect = CountVectorizer() # Instancia o algoritmo do count vectorizer\n",
        "X_train_counts = count_vect.fit_transform(df_train.data)\n",
        "X_train_counts.shape"
      ],
      "metadata": {
        "colab": {
          "base_uri": "https://localhost:8080/"
        },
        "id": "Fu61zbj28CZr",
        "outputId": "06a35f7e-163c-4e0b-e50c-9c76f4e86edb"
      },
      "execution_count": null,
      "outputs": [
        {
          "output_type": "execute_result",
          "data": {
            "text/plain": [
              "(5594, 87600)"
            ]
          },
          "metadata": {},
          "execution_count": 7
        }
      ]
    },
    {
      "cell_type": "code",
      "source": [
        "# TF-IDF \n",
        "tfidf_transformer = TfidfTransformer() \n",
        "X_train_tfidf = tfidf_transformer.fit_transform(X_train_counts)"
      ],
      "metadata": {
        "id": "WKjaBpZ08Q5C"
      },
      "execution_count": null,
      "outputs": []
    },
    {
      "cell_type": "markdown",
      "source": [
        "#### **Abordagem 1**\n",
        "\n",
        "#### **Treinamento do modelo**"
      ],
      "metadata": {
        "id": "yEVhGAlA8Y2S"
      }
    },
    {
      "cell_type": "code",
      "source": [
        "clf = MultinomialNB() # Instancia o algoritmo Naive Bayes para treinamento\n",
        "clf.fit(X_train_tfidf, df_train.target)"
      ],
      "metadata": {
        "colab": {
          "base_uri": "https://localhost:8080/",
          "height": 74
        },
        "id": "bixwaLaa8bm-",
        "outputId": "0635b4a7-3061-4d5a-f067-3904b4224e8e"
      },
      "execution_count": null,
      "outputs": [
        {
          "output_type": "execute_result",
          "data": {
            "text/plain": [
              "MultinomialNB()"
            ],
            "text/html": [
              "<style>#sk-container-id-1 {color: black;background-color: white;}#sk-container-id-1 pre{padding: 0;}#sk-container-id-1 div.sk-toggleable {background-color: white;}#sk-container-id-1 label.sk-toggleable__label {cursor: pointer;display: block;width: 100%;margin-bottom: 0;padding: 0.3em;box-sizing: border-box;text-align: center;}#sk-container-id-1 label.sk-toggleable__label-arrow:before {content: \"▸\";float: left;margin-right: 0.25em;color: #696969;}#sk-container-id-1 label.sk-toggleable__label-arrow:hover:before {color: black;}#sk-container-id-1 div.sk-estimator:hover label.sk-toggleable__label-arrow:before {color: black;}#sk-container-id-1 div.sk-toggleable__content {max-height: 0;max-width: 0;overflow: hidden;text-align: left;background-color: #f0f8ff;}#sk-container-id-1 div.sk-toggleable__content pre {margin: 0.2em;color: black;border-radius: 0.25em;background-color: #f0f8ff;}#sk-container-id-1 input.sk-toggleable__control:checked~div.sk-toggleable__content {max-height: 200px;max-width: 100%;overflow: auto;}#sk-container-id-1 input.sk-toggleable__control:checked~label.sk-toggleable__label-arrow:before {content: \"▾\";}#sk-container-id-1 div.sk-estimator input.sk-toggleable__control:checked~label.sk-toggleable__label {background-color: #d4ebff;}#sk-container-id-1 div.sk-label input.sk-toggleable__control:checked~label.sk-toggleable__label {background-color: #d4ebff;}#sk-container-id-1 input.sk-hidden--visually {border: 0;clip: rect(1px 1px 1px 1px);clip: rect(1px, 1px, 1px, 1px);height: 1px;margin: -1px;overflow: hidden;padding: 0;position: absolute;width: 1px;}#sk-container-id-1 div.sk-estimator {font-family: monospace;background-color: #f0f8ff;border: 1px dotted black;border-radius: 0.25em;box-sizing: border-box;margin-bottom: 0.5em;}#sk-container-id-1 div.sk-estimator:hover {background-color: #d4ebff;}#sk-container-id-1 div.sk-parallel-item::after {content: \"\";width: 100%;border-bottom: 1px solid gray;flex-grow: 1;}#sk-container-id-1 div.sk-label:hover label.sk-toggleable__label {background-color: #d4ebff;}#sk-container-id-1 div.sk-serial::before {content: \"\";position: absolute;border-left: 1px solid gray;box-sizing: border-box;top: 0;bottom: 0;left: 50%;z-index: 0;}#sk-container-id-1 div.sk-serial {display: flex;flex-direction: column;align-items: center;background-color: white;padding-right: 0.2em;padding-left: 0.2em;position: relative;}#sk-container-id-1 div.sk-item {position: relative;z-index: 1;}#sk-container-id-1 div.sk-parallel {display: flex;align-items: stretch;justify-content: center;background-color: white;position: relative;}#sk-container-id-1 div.sk-item::before, #sk-container-id-1 div.sk-parallel-item::before {content: \"\";position: absolute;border-left: 1px solid gray;box-sizing: border-box;top: 0;bottom: 0;left: 50%;z-index: -1;}#sk-container-id-1 div.sk-parallel-item {display: flex;flex-direction: column;z-index: 1;position: relative;background-color: white;}#sk-container-id-1 div.sk-parallel-item:first-child::after {align-self: flex-end;width: 50%;}#sk-container-id-1 div.sk-parallel-item:last-child::after {align-self: flex-start;width: 50%;}#sk-container-id-1 div.sk-parallel-item:only-child::after {width: 0;}#sk-container-id-1 div.sk-dashed-wrapped {border: 1px dashed gray;margin: 0 0.4em 0.5em 0.4em;box-sizing: border-box;padding-bottom: 0.4em;background-color: white;}#sk-container-id-1 div.sk-label label {font-family: monospace;font-weight: bold;display: inline-block;line-height: 1.2em;}#sk-container-id-1 div.sk-label-container {text-align: center;}#sk-container-id-1 div.sk-container {/* jupyter's `normalize.less` sets `[hidden] { display: none; }` but bootstrap.min.css set `[hidden] { display: none !important; }` so we also need the `!important` here to be able to override the default hidden behavior on the sphinx rendered scikit-learn.org. See: https://github.com/scikit-learn/scikit-learn/issues/21755 */display: inline-block !important;position: relative;}#sk-container-id-1 div.sk-text-repr-fallback {display: none;}</style><div id=\"sk-container-id-1\" class=\"sk-top-container\"><div class=\"sk-text-repr-fallback\"><pre>MultinomialNB()</pre><b>In a Jupyter environment, please rerun this cell to show the HTML representation or trust the notebook. <br />On GitHub, the HTML representation is unable to render, please try loading this page with nbviewer.org.</b></div><div class=\"sk-container\" hidden><div class=\"sk-item\"><div class=\"sk-estimator sk-toggleable\"><input class=\"sk-toggleable__control sk-hidden--visually\" id=\"sk-estimator-id-1\" type=\"checkbox\" checked><label for=\"sk-estimator-id-1\" class=\"sk-toggleable__label sk-toggleable__label-arrow\">MultinomialNB</label><div class=\"sk-toggleable__content\"><pre>MultinomialNB()</pre></div></div></div></div></div>"
            ]
          },
          "metadata": {},
          "execution_count": 9
        }
      ]
    },
    {
      "cell_type": "code",
      "source": [
        "# Pipeline de machine learning \n",
        "clf_1 = Pipeline([\n",
        "    ('vect', CountVectorizer()),    # Passo 1, aplicar o count vectorizer nos textos \n",
        "    ('tfidf', TfidfTransformer()),  # Passo 2, aplicar o TFIDF nos textos\n",
        "    ('clf', MultinomialNB())])      # Passo 3, aplicar o algoritmo Naive Bayes"
      ],
      "metadata": {
        "id": "KjRaJTNW8hCu"
      },
      "execution_count": null,
      "outputs": []
    },
    {
      "cell_type": "code",
      "source": [
        "clf_trained = clf_1.fit(df_train.data, df_train.target) # Realiza o treinamento do modelo no pipeline\n",
        "pred = clf_trained.predict(df_test.data) # Faz predição no dado de teste"
      ],
      "metadata": {
        "id": "Y-1TsSQY8kE5"
      },
      "execution_count": null,
      "outputs": []
    },
    {
      "cell_type": "code",
      "source": [
        "acc = np.mean(pred == df_test.target)\n",
        "print('>>>> Acurácia: ', acc)"
      ],
      "metadata": {
        "colab": {
          "base_uri": "https://localhost:8080/"
        },
        "id": "VbNC4XOK8qHf",
        "outputId": "402f072f-fb9c-4461-e7e0-4b88095c1a50"
      },
      "execution_count": null,
      "outputs": [
        {
          "output_type": "stream",
          "name": "stdout",
          "text": [
            ">>>> Acurácia:  0.7931219774314885\n"
          ]
        }
      ]
    },
    {
      "cell_type": "code",
      "source": [
        "# gera as métricas de assertividade do modelo\n",
        "creport = classification_report(df_test.target, pred, target_names=df_test.target_names)\n",
        "print(creport)"
      ],
      "metadata": {
        "colab": {
          "base_uri": "https://localhost:8080/"
        },
        "id": "kIHpItF98tNG",
        "outputId": "5ebe1c47-cdc5-4c91-9d36-1c1e9c559b34"
      },
      "execution_count": null,
      "outputs": [
        {
          "output_type": "stream",
          "name": "stdout",
          "text": [
            "                          precision    recall  f1-score   support\n",
            "\n",
            "             alt.atheism       0.83      0.53      0.64       319\n",
            "           comp.graphics       0.90      0.76      0.82       389\n",
            " comp.os.ms-windows.misc       0.88      0.68      0.77       394\n",
            "comp.sys.ibm.pc.hardware       0.76      0.85      0.80       392\n",
            "   comp.sys.mac.hardware       0.89      0.83      0.86       385\n",
            "         rec.motorcycles       0.95      0.97      0.96       398\n",
            "      rec.sport.baseball       0.93      0.91      0.92       397\n",
            "        rec.sport.hockey       0.92      0.97      0.95       399\n",
            "  soc.religion.christian       0.47      0.99      0.64       398\n",
            "      talk.religion.misc       1.00      0.16      0.28       251\n",
            "\n",
            "                accuracy                           0.79      3722\n",
            "               macro avg       0.85      0.76      0.76      3722\n",
            "            weighted avg       0.85      0.79      0.78      3722\n",
            "\n"
          ]
        }
      ]
    },
    {
      "cell_type": "markdown",
      "source": [
        "#### **Tuning de parametros**\n",
        "\n",
        "#### Modelo usando **Naive bayes** com Grid Search"
      ],
      "metadata": {
        "id": "X8loxKd_8vc2"
      }
    },
    {
      "cell_type": "code",
      "source": [
        "# Grid Search\n",
        "# Aqui, estamos criando uma lista de parâmetros para os quais gostaríamos de fazer o ajuste de desempenho.\n",
        "# Todos os nomes dos parâmetros começam com o nome do classificador (lembre-se do nome arbitrário que demos).\n",
        "# Por exemplo. vect__ngram_range; aqui estamos dizendo para usar unigramas e bigramas e escolher aquele que é o ideal.\n",
        "\n",
        "parameters = {'vect__ngram_range': [(1, 1), (1, 2)], 'tfidf__use_idf': (True, False), 'clf__alpha': (1e-2, 1e-3)}"
      ],
      "metadata": {
        "id": "OzNuhkL78wUu"
      },
      "execution_count": null,
      "outputs": []
    },
    {
      "cell_type": "code",
      "source": [
        "gs_clf = GridSearchCV(clf_trained, parameters, n_jobs=-1) # Define o grid search para buscar os melhores parametros \n",
        "gs_clf = gs_clf.fit(df_train.data, df_train.target) # treinamento do modelo "
      ],
      "metadata": {
        "id": "6DmE5Tfq9Ppf"
      },
      "execution_count": null,
      "outputs": []
    },
    {
      "cell_type": "code",
      "source": [
        "# Para ver a melhor pontuação média e os parâmetros, execute o seguinte código\n",
        "\n",
        "print(gs_clf.best_score_)\n",
        "gs_clf.best_params_\n",
        "\n",
        "#A saída acima deve ser: A precisão agora aumentou para ~90,6% para o classificador NB (não tão ingênuo mais! 😄)\n",
        "# e os parâmetros correspondentes são {'clf__alpha': 0.01, 'tfidf__use_idf': True, 'vect__ngram_range': (1, 2)}."
      ],
      "metadata": {
        "colab": {
          "base_uri": "https://localhost:8080/"
        },
        "id": "LEq2OmTg83Gu",
        "outputId": "d65bd743-6f26-4c23-a468-46c2b0259b6f"
      },
      "execution_count": null,
      "outputs": [
        {
          "output_type": "stream",
          "name": "stdout",
          "text": [
            "0.9209857063152157\n"
          ]
        },
        {
          "output_type": "execute_result",
          "data": {
            "text/plain": [
              "{'clf__alpha': 0.001, 'tfidf__use_idf': True, 'vect__ngram_range': (1, 2)}"
            ]
          },
          "metadata": {},
          "execution_count": 16
        }
      ]
    },
    {
      "cell_type": "code",
      "source": [
        "pred = gs_clf.predict(df_test.data) # Faz predição no dado de teste"
      ],
      "metadata": {
        "id": "xh8hUmht-HU3"
      },
      "execution_count": null,
      "outputs": []
    },
    {
      "cell_type": "code",
      "source": [
        "acc = np.mean(pred == df_test.target)\n",
        "print('>>>> Acurácia: ', acc)"
      ],
      "metadata": {
        "id": "sH1OKM_d-KJ2",
        "outputId": "dc1a3737-6b07-4555-e3af-d55ccb4990e5",
        "colab": {
          "base_uri": "https://localhost:8080/"
        }
      },
      "execution_count": null,
      "outputs": [
        {
          "output_type": "stream",
          "name": "stdout",
          "text": [
            ">>>> Acurácia:  0.8619022031166039\n"
          ]
        }
      ]
    },
    {
      "cell_type": "code",
      "source": [
        "creport = classification_report(df_test.target, pred, target_names=df_test.target_names)\n",
        "print(creport)"
      ],
      "metadata": {
        "id": "HESziwWm-L3_",
        "outputId": "5f9fe4c9-e614-4373-8268-50137c68bad2",
        "colab": {
          "base_uri": "https://localhost:8080/"
        }
      },
      "execution_count": null,
      "outputs": [
        {
          "output_type": "stream",
          "name": "stdout",
          "text": [
            "                          precision    recall  f1-score   support\n",
            "\n",
            "             alt.atheism       0.84      0.85      0.84       319\n",
            "           comp.graphics       0.83      0.83      0.83       389\n",
            " comp.os.ms-windows.misc       0.80      0.67      0.73       394\n",
            "comp.sys.ibm.pc.hardware       0.72      0.80      0.76       392\n",
            "   comp.sys.mac.hardware       0.85      0.86      0.86       385\n",
            "         rec.motorcycles       0.98      0.99      0.98       398\n",
            "      rec.sport.baseball       0.96      0.93      0.95       397\n",
            "        rec.sport.hockey       0.95      0.97      0.96       399\n",
            "  soc.religion.christian       0.85      0.95      0.90       398\n",
            "      talk.religion.misc       0.82      0.71      0.76       251\n",
            "\n",
            "                accuracy                           0.86      3722\n",
            "               macro avg       0.86      0.86      0.86      3722\n",
            "            weighted avg       0.86      0.86      0.86      3722\n",
            "\n"
          ]
        }
      ]
    },
    {
      "cell_type": "markdown",
      "source": [
        "# Por fim, podemos observar que dependendo dos parâmetros que utilizamos, podemos obter um bom re"
      ],
      "metadata": {
        "id": "iOzLHKfGonMl"
      }
    }
  ]
}